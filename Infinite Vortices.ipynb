{
 "metadata": {
  "name": ""
 },
 "nbformat": 3,
 "nbformat_minor": 0,
 "worksheets": [
  {
   "cells": [
    {
     "cell_type": "heading",
     "level": 1,
     "metadata": {},
     "source": [
      "Infinite Vortices"
     ]
    },
    {
     "cell_type": "markdown",
     "metadata": {},
     "source": [
      "Defining the grid for fluid domain"
     ]
    },
    {
     "cell_type": "code",
     "collapsed": false,
     "input": [
      "import numpy as np\n",
      "import matplotlib.pyplot as plt\n",
      "from math import *\n",
      "\n",
      "N = 100 \n",
      "xStart,xEnd = -4.0,4.0\n",
      "yStart,yEnd = -2.0,2.0 \n",
      "x = np.linspace(xStart,xEnd,N)\n",
      "y = np.linspace(yStart,yEnd,N)    \n",
      "X,Y = np.meshgrid(x,y)"
     ],
     "language": "python",
     "metadata": {},
     "outputs": [],
     "prompt_number": 29
    },
    {
     "cell_type": "markdown",
     "metadata": {},
     "source": [
      "Defining the Freestream conditions and velocities"
     ]
    },
    {
     "cell_type": "code",
     "collapsed": false,
     "input": [
      "Uinf = 1.0\n",
      "alphaInDegrees = 0.0\n",
      "alpha = alphaInDegrees*pi/180\n",
      "uFreestream = Uinf*cos(alpha)\n",
      "vFreestream = Uinf*sin(alpha)\n",
      "psiFreestream = + Uinf*cos(alpha)*Y - Uinf*sin(alpha)*X"
     ],
     "language": "python",
     "metadata": {},
     "outputs": [],
     "prompt_number": 30
    },
    {
     "cell_type": "markdown",
     "metadata": {},
     "source": [
      "Defining a function to calculate flow properties of infinite row of vortices."
     ]
    },
    {
     "cell_type": "code",
     "collapsed": false,
     "input": [
      "def flowvortexinfinite(ga,a,xn,yn):\n",
      "    u=(ga/(2*a))*(sinh(2*pi*yn/a)/(cosh(2*pi*yn/a)-cos(2*pi*xn/a)))\n",
      "    v=-(ga/(2*a))*(sin(2*pi*xn/a)/(cosh(2*pi*yn/a)-cos(2*pi*xn/a)))\n",
      "    return u,v"
     ],
     "language": "python",
     "metadata": {},
     "outputs": [],
     "prompt_number": 31
    },
    {
     "cell_type": "markdown",
     "metadata": {},
     "source": [
      "Defining vortex strength, spacing between vortices."
     ]
    },
    {
     "cell_type": "code",
     "collapsed": false,
     "input": [
      "a=.40\n",
      "ga=.001"
     ],
     "language": "python",
     "metadata": {},
     "outputs": [],
     "prompt_number": 32
    },
    {
     "cell_type": "markdown",
     "metadata": {},
     "source": [
      "Creating arrays store velocites"
     ]
    },
    {
     "cell_type": "code",
     "collapsed": false,
     "input": [
      "uvortex=np.zeros((N,N),dtype=float)\n",
      "vvortex=np.zeros((N,N),dtype=float)"
     ],
     "language": "python",
     "metadata": {},
     "outputs": [],
     "prompt_number": 33
    },
    {
     "cell_type": "markdown",
     "metadata": {},
     "source": [
      "Calculating the induced velocities by infinite row of vortices"
     ]
    },
    {
     "cell_type": "code",
     "collapsed": false,
     "input": [
      "for i in range(N):\n",
      "    for j in range(N):\n",
      "        uvortex[i][j],vvortex[i][j]=flowvortexinfinite(ga,a,X[i][j],Y[i][j])"
     ],
     "language": "python",
     "metadata": {},
     "outputs": [],
     "prompt_number": 34
    },
    {
     "cell_type": "markdown",
     "metadata": {},
     "source": [
      "Plotting the results"
     ]
    },
    {
     "cell_type": "code",
     "collapsed": false,
     "input": [
      "plt.figure()\n",
      "plt.xlabel('x',fontsize=16)\n",
      "plt.ylabel('y',fontsize=16)\n",
      "plt.xlim(xStart,xEnd)\n",
      "plt.ylim(yStart,yEnd)\n",
      "plt.streamplot(X,Y,uvortex,vvortex,density=1.0,linewidth=1,arrowsize=1,arrowstyle='->')\n",
      "plt.show()\n"
     ],
     "language": "python",
     "metadata": {},
     "outputs": [
      {
       "metadata": {},
       "output_type": "display_data",
       "png": "[encoded data removed]",
       "text": [
        "<matplotlib.figure.Figure at 0x79cd9e8>"
       ]
      }
     ],
     "prompt_number": 35
    }
   ],
   "metadata": {}
  }
 ]
}